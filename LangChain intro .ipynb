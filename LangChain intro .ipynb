{
 "cells": [
  {
   "cell_type": "code",
   "execution_count": 1,
   "metadata": {},
   "outputs": [],
   "source": [
    "import os\n",
    "api_key=os.getenv('OPENAI_API_KEY')"
   ]
  },
  {
   "cell_type": "code",
   "execution_count": 2,
   "metadata": {},
   "outputs": [
    {
     "name": "stderr",
     "output_type": "stream",
     "text": [
      "/home/zigron/anaconda3/envs/myenv/lib/python3.11/site-packages/langchain_core/_api/deprecation.py:139: LangChainDeprecationWarning: The class `OpenAI` was deprecated in LangChain 0.0.10 and will be removed in 0.3.0. An updated version of the class exists in the langchain-openai package and should be used instead. To use it run `pip install -U langchain-openai` and import as `from langchain_openai import OpenAI`.\n",
      "  warn_deprecated(\n",
      "/home/zigron/anaconda3/envs/myenv/lib/python3.11/site-packages/langchain_core/_api/deprecation.py:139: LangChainDeprecationWarning: The method `BaseLLM.__call__` was deprecated in langchain-core 0.1.7 and will be removed in 0.3.0. Use invoke instead.\n",
      "  warn_deprecated(\n"
     ]
    },
    {
     "data": {
      "text/plain": [
       "'\\n\\n\"Chaat Chowk\"'"
      ]
     },
     "execution_count": 2,
     "metadata": {},
     "output_type": "execute_result"
    }
   ],
   "source": [
    "from langchain.llms import OpenAI\n",
    "llm=OpenAI(temperature=0.7)\n",
    "llm('suggest me a pakistani restaurant name. just one name')"
   ]
  },
  {
   "cell_type": "code",
   "execution_count": 3,
   "metadata": {},
   "outputs": [
    {
     "data": {
      "text/plain": [
       "'write an essay on hobby'"
      ]
     },
     "execution_count": 3,
     "metadata": {},
     "output_type": "execute_result"
    }
   ],
   "source": [
    "from langchain.prompts import PromptTemplate\n",
    "prompt_template=PromptTemplate(\n",
    "    template=\"write an essay on {topic}\",\n",
    "    input_variables=[\"topic\"]\n",
    ")\n",
    "prompt_template.format(topic='hobby')\n"
   ]
  },
  {
   "cell_type": "code",
   "execution_count": 4,
   "metadata": {},
   "outputs": [
    {
     "name": "stderr",
     "output_type": "stream",
     "text": [
      "/home/zigron/anaconda3/envs/myenv/lib/python3.11/site-packages/langchain_core/_api/deprecation.py:139: LangChainDeprecationWarning: The class `LLMChain` was deprecated in LangChain 0.1.17 and will be removed in 1.0. Use RunnableSequence, e.g., `prompt | llm` instead.\n",
      "  warn_deprecated(\n",
      "/home/zigron/anaconda3/envs/myenv/lib/python3.11/site-packages/langchain_core/_api/deprecation.py:139: LangChainDeprecationWarning: The method `Chain.run` was deprecated in langchain 0.1.0 and will be removed in 0.3.0. Use invoke instead.\n",
      "  warn_deprecated(\n"
     ]
    },
    {
     "data": {
      "text/plain": [
       "\"\\n\\nArabic is a beautiful and complex language that has played a significant role in shaping the world’s history and culture. It is the official language of over 20 countries, making it one of the most widely spoken languages in the world. Arabic is a Semitic language that originated in the Arabian Peninsula and has evolved over thousands of years. In this essay, we will explore the rich history and unique features of the Arabic language.\\n\\nThe history of Arabic can be traced back to the 6th century AD when it emerged as the language of the Qur'an, the holy book of Islam. The Qur'an, written in classical Arabic, is considered to be the direct word of God and has played a crucial role in spreading the language across the Middle East and North Africa. As Islam spread through trade and conquest, Arabic became the dominant language of the region, and its influence continued to spread even after the decline of the Islamic empires.\\n\\nOne of the distinctive features of Arabic is its alphabet. Unlike most languages that are written from left to right, Arabic is written from right to left. It consists of 28 letters, and the letters change their form depending on their position in the word. This unique writing system adds a sense of beauty and elegance to the language, making it one\""
      ]
     },
     "execution_count": 4,
     "metadata": {},
     "output_type": "execute_result"
    }
   ],
   "source": [
    "from langchain.chains import LLMChain\n",
    "chain=LLMChain(llm=llm,prompt=prompt_template)\n",
    "chain.run('Arabic')"
   ]
  },
  {
   "cell_type": "code",
   "execution_count": 28,
   "metadata": {},
   "outputs": [],
   "source": [
    "prompt1=PromptTemplate(\n",
    "    input_variables=[\"name\"],\n",
    "    template=\"i want to open showroom of {name} cars. suggest me a fancy name for it\"\n",
    ")\n",
    "chain1 = LLMChain(\n",
    "    llm=llm,\n",
    "    prompt=prompt1\n",
    ")\n",
    "prompt2=PromptTemplate(\n",
    "    input_variables=['name'],\n",
    "    template='guess how many cars should i place in {name}.'\n",
    ")\n",
    "chain2 = LLMChain(\n",
    "    llm=llm,\n",
    "    prompt=prompt2\n",
    ")"
   ]
  },
  {
   "cell_type": "code",
   "execution_count": 29,
   "metadata": {},
   "outputs": [
    {
     "name": "stdout",
     "output_type": "stream",
     "text": [
      "\n",
      "\n",
      "1. \"Toyotopia Showroom\" - 20 cars\n",
      "2. \"Toyotastic Cars\" - 15 cars\n",
      "3. \"Toyota Haven\" - 25 cars\n",
      "4. \"Zooming Toyotas\" - 30 cars\n",
      "5. \"The Toyota Experience\" - 40 cars\n",
      "6. \"Toyotique Showroom\" - 20 cars\n",
      "7. \"Toyota Dream Cars\" - 35 cars\n",
      "8. \"Drive in Style: Toyota Edition\" - 45 cars\n",
      "9. \"Toyotopia Motors\" - 25 cars\n",
      "10. \"The Toyota Collection\" - 50 cars\n",
      "11. \"Toyotopia Auto Gallery\" - 40 cars\n",
      "12. \"Toyota Emporium\" - 30 cars\n",
      "13. \"Toyotastic Motors\" - 20 cars\n",
      "14. \"Toyota Avenue\" - 35 cars\n",
      "15. \"Toyotopia Auto Emporium\" - 50 cars\n"
     ]
    }
   ],
   "source": [
    "from langchain.chains import SimpleSequentialChain\n",
    "chain=SimpleSequentialChain(chains = [chain1,chain2])\n",
    "print(chain.run('toyota'))"
   ]
  },
  {
   "cell_type": "code",
   "execution_count": 40,
   "metadata": {},
   "outputs": [],
   "source": [
    "prompt1=PromptTemplate(\n",
    "    input_variables=[\"name\"],\n",
    "    template=\"i want to open showroom of {name} cars. suggest me a fancy name for it\"\n",
    ")\n",
    "chain1 = LLMChain(\n",
    "    llm=llm,\n",
    "    prompt=prompt1,\n",
    "    output_key='showroom_name'\n",
    ")\n",
    "prompt2=PromptTemplate(\n",
    "    input_variables=['name'],\n",
    "    template='tell me different types of{name}.'\n",
    ")\n",
    "chain2 = LLMChain(\n",
    "    llm=llm,\n",
    "    prompt=prompt2,\n",
    "    output_key='diff_cars'\n",
    ")"
   ]
  },
  {
   "cell_type": "code",
   "execution_count": 42,
   "metadata": {},
   "outputs": [
    {
     "name": "stdout",
     "output_type": "stream",
     "text": [
      "{'name': 'toyota', 'showroom_name': '\\n\\n\"Drive Toyotastic Showroom\"', 'diff_cars': '\\n\\n1. Sedans: Toyota sedans are known for their reliability, fuel efficiency, and comfortable ride. Some popular models include the Camry, Corolla, and Avalon.\\n\\n2. SUVs: Toyota offers a wide range of SUVs, from compact crossovers like the RAV4 to full-size SUVs like the Land Cruiser. These vehicles are popular for their spacious interiors, off-road capabilities, and advanced safety features.\\n\\n3. Trucks: Toyota is well-known for its durable and capable trucks, such as the Tacoma and Tundra. These trucks are built for both everyday use and rugged off-roading adventures.\\n\\n4. Hybrids: Toyota is a leader in hybrid technology and offers a variety of hybrid models, including the Prius, Highlander Hybrid, and RAV4 Hybrid. These vehicles offer improved fuel efficiency and lower emissions.\\n\\n5. Performance Cars: Toyota also has a line of performance-focused cars, including the iconic Supra sports car and the 86 sports coupe. These vehicles are known for their sleek designs and powerful engines.\\n\\n6. Vans: Toyota offers a range of vans, including the Sienna and the Hiace, which are popular for their spacious interiors and versatility for both personal and commercial use.\\n\\n7. Electric Vehicles: Toyota has'}\n"
     ]
    }
   ],
   "source": [
    "from langchain.chains import SequentialChain\n",
    "chain=SequentialChain(chains = [chain1,chain2], input_variables=['name'],output_variables=['showroom_name','diff_cars'])\n",
    "print(chain({'name':'toyota'}))"
   ]
  },
  {
   "cell_type": "code",
   "execution_count": null,
   "metadata": {},
   "outputs": [],
   "source": []
  }
 ],
 "metadata": {
  "kernelspec": {
   "display_name": "myenv",
   "language": "python",
   "name": "python3"
  },
  "language_info": {
   "codemirror_mode": {
    "name": "ipython",
    "version": 3
   },
   "file_extension": ".py",
   "mimetype": "text/x-python",
   "name": "python",
   "nbconvert_exporter": "python",
   "pygments_lexer": "ipython3",
   "version": "3.1.undefined"
  }
 },
 "nbformat": 4,
 "nbformat_minor": 2
}
