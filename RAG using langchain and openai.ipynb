{
 "cells": [
  {
   "cell_type": "code",
   "execution_count": 7,
   "metadata": {},
   "outputs": [],
   "source": [
    "import os\n",
    "import requests\n",
    "from bs4 import BeautifulSoup\n",
    "import chromadb\n",
    "import openai\n",
    "from openai import OpenAI\n",
    "from dotenv import load_dotenv"
   ]
  },
  {
   "cell_type": "code",
   "execution_count": 8,
   "metadata": {},
   "outputs": [],
   "source": [
    "os.environ[\"LANGCHAIN_TRACING_V2\"] = \"true\""
   ]
  },
  {
   "cell_type": "code",
   "execution_count": 9,
   "metadata": {},
   "outputs": [
    {
     "data": {
      "text/plain": [
       "True"
      ]
     },
     "execution_count": 9,
     "metadata": {},
     "output_type": "execute_result"
    }
   ],
   "source": [
    "load_dotenv()"
   ]
  },
  {
   "cell_type": "code",
   "execution_count": 10,
   "metadata": {},
   "outputs": [
    {
     "data": {
      "text/plain": [
       "['Branch of medicine',\n",
       " 'This article contains too many pictures for its overall length. Relevant discussion may be found on the talk page. Please improve this article by removing indiscriminate collections of images or adjusting images that are sandwiching text in accordance with the Manual of Style on use of images. (Learn how and when to remove this message) DentistryA dentist treats a patient with the help of a dental assistant.OccupationNames Dentist Dental Surgeon Doctor [1][nb 1]',\n",
       " 'Occupation typeProfessionActivity sectorsHealth care, Anatomy, Physiology, Pathology, Medicine, Pharmacology, SurgeryDescriptionCompetencies Sub-Millimeter Surgical Dexterity Knowledge of human health, disease, pathology, and anatomy Communication/Interpersonal Skills Analytical Skills Critical Thinking Empathy/Professionalism Education requiredDental DegreeFields ofemploymentPrivate practicesPrimary care clinicsHospitalsRelated jobsPhysiciandental assistantdental techniciandental hygienistvarious dental specialists ICD-9-CM23-24MeSHD003813[edit on Wikidata] An oral surgeon and dental assistant removing a wisdom tooth Dentistry, also known as dental medicine and oral medicine, is the branch of medicine focused on the teeth, gums, and mouth. It consists of the study, diagnosis, prevention, management, and treatment of diseases, disorders, and conditions of the mouth, most commonly focused on dentition (the development and arrangement of teeth) as well as the oral mucosa.[2] Dentistry may also encompass other aspects of the craniofacial complex including the temporomandibular joint. The practitioner is called a dentist. The history of dentistry is almost as ancient as the history of humanity and civilization, with the earliest evidence dating from 7000 BC to 5500 BC.[3] Dentistry is thought to have been the first specialization in medicine which has gone on to develop its own accredited degree with its own specializations.[4] Dentistry is often also understood to subsume the now largely defunct medical specialty of stomatology (the study of the mouth and its disorders and diseases) for which reason the two terms are used interchangeably in certain regions. However, some specialties such as oral and maxillofacial surgery (facial reconstruction) may require both medical and dental degrees to accomplish. In European history, dentistry is considered to have stemmed from the trade of barber surgeons.[5] Dental treatments are carried out by a dental team, which often consists of a dentist and dental auxiliaries (such as dental assistants, dental hygienists, dental technicians, and dental therapists). Most dentists either work in private practices (primary care), dental hospitals, or (secondary care) institutions (prisons, armed forces bases, etc.). The modern movement of evidence-based dentistry calls for the use of high-quality scientific research and evidence to guide decision-making such as in manual tooth conservation, use of fluoride water treatment and fluoride toothpaste, dealing with oral diseases such as tooth decay and periodontitis, as well as systematic diseases such as osteoporosis, diabetes, celiac disease, cancer, and HIV/AIDS which could also affect the oral cavity. Other practices relevant to evidence-based dentistry include radiology of the mouth to inspect teeth deformity or oral malaises, haematology (study of blood) to avoid bleeding complications during dental surgery, cardiology (due to various severe complications arising from dental surgery with patients with heart disease), etc.',\n",
       " \"Terminology The term dentistry comes from dentist, which comes from French dentiste, which comes from the French and Latin words for tooth.[6] The term for the associated scientific study of teeth is odontology (from Ancient Greek: ὀδούς, romanized: odoús, lit. 'tooth') – the study of the structure, development, and abnormalities of the teeth.\",\n",
       " 'Dental treatment Dentistry usually encompasses practices related to the oral cavity.[7] According to the World Health Organization, oral diseases are major public health problems due to their high incidence and prevalence across the globe, with the disadvantaged affected more than other socio-economic groups.[8] The majority of dental treatments are carried out to prevent or treat the two most common oral diseases which are dental caries (tooth decay) and periodontal disease (gum disease or pyorrhea). Common treatments involve the restoration of teeth, extraction or surgical removal of teeth, scaling and root planing, endodontic root canal treatment, and cosmetic dentistry[9] By nature of their general training, dentists, without specialization can carry out the majority of dental treatments such as restorative (fillings, crowns, bridges), prosthetic (dentures), endodontic (root canal) therapy, periodontal (gum) therapy, and extraction of teeth, as well as performing examinations, radiographs (x-rays), and diagnosis. Dentists can also prescribe medications used in the field such as antibiotics, sedatives, and any other drugs used in patient management. Depending on their licensing boards, general dentists may be required to complete additional training to perform sedation, dental implants, etc.',\n",
       " 'Irreversible enamel defects caused by an untreated celiac disease. They may be the only clue to its diagnosis, even in absence of gastrointestinal symptoms, but are often confused with fluorosis, tetracycline discoloration, acid reflux or other causes.[10][11][12] The National Institutes of Health include a dental exam in the diagnostic protocol of celiac disease.[10] Dentists also encourage the prevention of oral diseases through proper hygiene and regular, twice or more yearly, checkups for professional cleaning and evaluation. Oral infections and inflammations may affect overall health and conditions in the oral cavity may be indicative of systemic diseases, such as osteoporosis, diabetes, celiac disease or cancer.[7][10][13][14] Many studies have also shown that gum disease is associated with an increased risk of diabetes, heart disease, and preterm birth. The concept that oral health can affect systemic health and disease is referred to as \"oral-systemic health\".',\n",
       " 'Education and licensing Main article: Dentistry throughout the world A sagittal cross-section of a molar tooth; 1: crown, 2: root, 3: enamel, 4: dentin and dentin tubules, 5: pulp chamber, 6: blood vessels and nerve, 7: periodontal ligament, 8: apex and periapical region, 9: alveolar bone Early dental chair in Pioneer West Museum in Shamrock, Texas John M. Harris started the world\\'s first dental school in Bainbridge, Ohio, and helped to establish dentistry as a health profession. It opened on 21 February 1828, and today is a dental museum.[15] The first dental college, Baltimore College of Dental Surgery, opened in Baltimore, Maryland, US in 1840. The second in the United States was the Ohio College of Dental Surgery, established in Cincinnati, Ohio, in 1845.[16] The Philadelphia College of Dental Surgery followed in 1852.[17] In 1907, Temple University accepted a bid to incorporate the school. Studies show that dentists that graduated from different countries,[18] or even from different dental schools in one country,[19] may make different clinical decisions for the same clinical condition. For example, dentists that graduated from Israeli dental schools may recommend the removal of asymptomatic impacted third molar (wisdom teeth) more often than dentists that graduated from Latin American or Eastern European dental schools.[20] In the United Kingdom, the first dental schools, the London School of Dental Surgery and the Metropolitan School of Dental Science, both in London, opened in 1859.[21] The British Dentists Act of 1878 and the 1879 Dentists Register limited the title of \"dentist\" and \"dental surgeon\" to qualified and registered practitioners.[22][23] However, others could legally describe themselves as \"dental experts\" or \"dental consultants\".[24] The practice of dentistry in the United Kingdom became fully regulated with the 1921 Dentists Act, which required the registration of anyone practising dentistry.[25] The British Dental Association, formed in 1880 with Sir John Tomes as president, played a major role in prosecuting dentists practising illegally.[22] Dentists in the United Kingdom are now regulated by the General Dental Council. In many countries, dentists usually complete between five and eight years of post-secondary education before practising. Though not mandatory, many dentists choose to complete an internship or residency focusing on specific aspects of dental care after they have received their dental degree. In a few countries, to become a qualified dentist one must usually complete at least four years of postgraduate study;[26] Dental degrees awarded around the world include the Doctor of Dental Surgery (DDS) and Doctor of Dental Medicine (DMD) in North America (US and Canada), and the Bachelor of Dental Surgery/Baccalaureus Dentalis Chirurgiae (BDS, BDent, BChD, BDSc) in the UK and current and former British Commonwealth countries. All dentists in the United States undergo at least three years of undergraduate studies, but nearly all complete a bachelor\\'s degree. This schooling is followed by four years of dental school to qualify as a \"Doctor of Dental Surgery\" (DDS) or \"Doctor of Dental Medicine\" (DMD). Specialization in dentistry is available in the fields of Anesthesiology, Dental Public Health, Endodontics, Oral Radiology, Oral and Maxillofacial Surgery, Oral Medicine, Orofacial Pain, Pathology, Orthodontics, Pediatric Dentistry (Pedodontics), Periodontics, and Prosthodontics.[27]',\n",
       " 'Specialties Main article: Specialty (dentistry) A modern dental clinic in Lappeenranta, Finland Some dentists undertake further training after their initial degree in order to specialize. Exactly which subjects are recognized by dental registration bodies varies according to location. Examples include:',\n",
       " 'Anesthesiology[28] – The specialty of dentistry that deals with the advanced use of general anesthesia, sedation and pain management to facilitate dental procedures. Cosmetic dentistry – Focuses on improving the appearance of the mouth, teeth and smile. Dental public health – The study of epidemiology and social health policies relevant to oral health. Endodontics (also called endodontology) – Root canal therapy and study of diseases of the dental pulp and periapical tissues. Forensic odontology – The gathering and use of dental evidence in law. This may be performed by any dentist with experience or training in this field. The function of the forensic dentist is primarily documentation and verification of identity. Geriatric dentistry or geriodontics – The delivery of dental care to older adults involving the diagnosis, prevention, and treatment of problems associated with normal aging and age-related diseases as part of an interdisciplinary team with other health care professionals. Oral and maxillofacial pathology – The study, diagnosis, and sometimes the treatment of oral and maxillofacial related diseases. Oral and maxillofacial radiology – The study and radiologic interpretation of oral and maxillofacial diseases. Oral and maxillofacial surgery (also called oral surgery) – Extractions, implants, and surgery of the jaws, mouth and face.[nb 2] Oral biology – Research in dental and craniofacial biology Oral Implantology – The art and science of replacing extracted teeth with dental implants. Oral medicine – The clinical evaluation and diagnosis of oral mucosal diseases Orthodontics and dentofacial orthopedics – The straightening of teeth and modification of midface and mandibular growth. Pediatric dentistry (also called pedodontics) – Dentistry for children Periodontology (also called periodontics) – The study and treatment of diseases of the periodontium (non-surgical and surgical) as well as placement and maintenance of dental implants Prosthodontics (also called prosthetic dentistry) – Dentures, bridges and the restoration of implants. Some prosthodontists super-specialize in maxillofacial prosthetics, which is the discipline originally concerned with the rehabilitation of patients with congenital facial and oral defects such as cleft lip and palate or patients born with an underdeveloped ear (microtia). Today, most maxillofacial prosthodontists return function and esthetics to patients with acquired defects secondary to surgical removal of head and neck tumors, or secondary to trauma from war or motor vehicle accidents. Special needs dentistry (also called special care dentistry) – Dentistry for those with developmental and acquired disabilities. Sports dentistry – the branch of sports medicine dealing with prevention and treatment of dental injuries and oral diseases associated with sports and exercise.[29] The sports dentist works as an individual consultant or as a member of the Sports Medicine Team. Veterinary dentistry – The field of dentistry applied to the care of animals. It is a specialty of veterinary medicine.[30][31] History See also: History of dental treatments A wealthy patient falling over because of having a tooth extracted with such vigour by a fashionable dentist, c. 1790. History of Dentistry. Farmer at the dentist, Johann Liss, c. 1616–17 Tooth decay was low in pre-agricultural societies, but the advent of farming society about 10,000 years ago correlated with an increase in tooth decay (cavities).[32] An infected tooth from Italy partially cleaned with flint tools, between 13,820 and 14,160 years old, represents the oldest known dentistry,[33] although a 2017 study suggests that 130,000 years ago the Neanderthals already used rudimentary dentistry tools.[34] The Indus valley has yielded evidence of dentistry being practised as far back as 7000 BC, during the Stone Age.[35] The Neolithic site of Mehrgarh (now in Pakistan\\'s south western province of Balochistan) indicates that this form of dentistry involved curing tooth related disorders with bow drills operated, perhaps, by skilled bead-crafters.[3] The reconstruction of this ancient form of dentistry showed that the methods used were reliable and effective.[36] The earliest dental filling, made of beeswax, was discovered in Slovenia and dates from 6500 years ago.[37] Dentistry was practised in prehistoric Malta, as evidenced by a skull which had a dental abscess lanced from the root of a tooth dating back to around 2500 BC.[38] An ancient Sumerian text describes a \"tooth worm\" as the cause of dental caries.[39] Evidence of this belief has also been found in ancient India, Egypt, Japan, and China. The legend of the worm is also found in the Homeric Hymns,[40] and as late as the 14th century AD the surgeon Guy de Chauliac still promoted the belief that worms cause tooth decay.[41] Recipes for the treatment of toothache, infections and loose teeth are spread throughout the Ebers Papyrus, Kahun Papyri, Brugsch Papyrus, and Hearst papyrus of Ancient Egypt.[42] The Edwin Smith Papyrus, written in the 17th century BC but which may reflect previous manuscripts from as early as 3000 BC, discusses the treatment of dislocated or fractured jaws.[42][43] In the 18th century BC, the Code of Hammurabi referenced dental extraction twice as it related to punishment.[44] Examination of the remains of some ancient Egyptians and Greco-Romans reveals early attempts at dental prosthetics.[45] However, it is possible the prosthetics were prepared after death for aesthetic reasons.[42] Ancient Greek scholars Hippocrates and Aristotle wrote about dentistry, including the eruption pattern of teeth, treating decayed teeth and gum disease, extracting teeth with forceps, and using wires to stabilize loose teeth and fractured jaws.[46] Some say the first use of dental appliances or bridges comes from the Etruscans from as early as 700 BC.[47] The Phoenicians crafted the oldest documented dentures during the 6th–4th century BC, fashioning them from gold wire and incorporating two ivory teeth.[48] In ancient Egypt, Hesy-Ra is the first named \"dentist\" (greatest of the teeth). The Egyptians bound replacement teeth together with gold wire. Roman medical writer Cornelius Celsus wrote extensively of oral diseases as well as dental treatments such as narcotic-containing emollients and astringents.[49] The earliest dental amalgams were first documented in a Tang dynasty medical text written by the Chinese physician Su Kung in 659, and appeared in Germany in 1528.[50][51] During the Islamic Golden Age Dentistry was discussed in several famous books of medicine such as The Canon in medicine written by Avicenna and Al-Tasreef by Al-Zahrawi who is considered the greatest surgeon of the Middle Ages,[52] Avicenna said that jaw fracture should be reduced according to the occlusal guidance of the teeth; this principle is still valid in modern times. Al-Zahrawi invented over 200 surgical tools that resemble the modern kind.[53] Historically, dental extractions have been used to treat a variety of illnesses. During the Middle Ages and throughout the 19th century, dentistry was not a profession in itself, and often dental procedures were performed by barbers or general physicians. Barbers usually limited their practice to extracting teeth which alleviated pain and associated chronic tooth infection. Instruments used for dental extractions date back several centuries. In the 14th century, Guy de Chauliac most probably invented the dental pelican[54] (resembling a pelican\\'s beak) which was used to perform dental extractions up until the late 18th century. The pelican was replaced by the dental key[55] which, in turn, was replaced by modern forceps in the 19th century.[56]',\n",
       " 'Dental needle-nose pliers designed by Fauchard in the late 17th century to use in prosthodontics The first book focused solely on dentistry was the \"Artzney Buchlein\" in 1530,[46] and the first dental textbook written in English was called \"Operator for the Teeth\" by Charles Allen in 1685.[23] In the United Kingdom, there was no formal qualification for the providers of dental treatment until 1859 and it was only in 1921 that the practice of dentistry was limited to those who were professionally qualified. The Royal Commission on the National Health Service in 1979 reported that there were then more than twice as many registered dentists per 10,000 population in the UK than there were in 1921.[57]',\n",
       " 'Modern dentistry A microscopic device used in dental analysis, c. 1907 It was between 1650 and 1800 that the science of modern dentistry developed. The English physician Thomas Browne in his A Letter to a Friend (c. 1656 pub. 1690) made an early dental observation with characteristic humour:',\n",
       " 'The Egyptian Mummies that I have seen, have had their Mouths open, and somewhat gaping, which affordeth a good opportunity to view and observe their Teeth, wherein \\'tis not easie to find any wanting or decayed: and therefore in Egypt, where one Man practised but one Operation, or the Diseases but of single Parts, it must needs be a barren Profession to confine unto that of drawing of Teeth, and little better than to have been Tooth-drawer unto King Pyrrhus, who had but two in his Head. The French surgeon Pierre Fauchard became known as the \"father of modern dentistry\". Despite the limitations of the primitive surgical instruments during the late 17th and early 18th century, Fauchard was a highly skilled surgeon who made remarkable improvisations of dental instruments, often adapting tools from watchmakers, jewelers and even barbers, that he thought could be used in dentistry. He introduced dental fillings as treatment for dental cavities. He asserted that sugar-derived acids like tartaric acid were responsible for dental decay, and also suggested that tumors surrounding the teeth and in the gums could appear in the later stages of tooth decay.[58][59]',\n",
       " 'Panoramic radiograph of historic dental implants, made 1978 Fauchard was the pioneer of dental prosthesis, and he invented many methods to replace lost teeth. He suggested that substitutes could be made from carved blocks of ivory or bone. He also introduced dental braces, although they were initially made of gold, he discovered that the teeth position could be corrected as the teeth would follow the pattern of the wires. Waxed linen or silk threads were usually employed to fasten the braces. His contributions to the world of dental science consist primarily of his 1728 publication Le chirurgien dentiste or The Surgeon Dentist. The French text included \"basic oral anatomy and function, dental construction, and various operative and restorative techniques, and effectively separated dentistry from the wider category of surgery\".[58][59]',\n",
       " \"A modern dentist's chair After Fauchard, the study of dentistry rapidly expanded. Two important books, Natural History of Human Teeth (1771) and Practical Treatise on the Diseases of the Teeth (1778), were published by British surgeon John Hunter. In 1763, he entered into a period of collaboration with the London-based dentist James Spence. He began to theorise about the possibility of tooth transplants from one person to another. He realised that the chances of a successful tooth transplant (initially, at least) would be improved if the donor tooth was as fresh as possible and was matched for size with the recipient. These principles are still used in the transplantation of internal organs. Hunter conducted a series of pioneering operations, in which he attempted a tooth transplant. Although the donated teeth never properly bonded with the recipients' gums, one of Hunter's patients stated that he had three which lasted for six years, a remarkable achievement for the period.[60] Major advances in science were made in the 19th century, and dentistry evolved from a trade to a profession. The profession came under government regulation by the end of the 19th century. In the UK, the Dentist Act was passed in 1878 and the British Dental Association formed in 1879. In the same year, Francis Brodie Imlach was the first ever dentist to be elected President of the Royal College of Surgeons (Edinburgh), raising dentistry onto a par with clinical surgery for the first time.[61]\",\n",
       " 'Hazards in modern dentistry Main article: Occupational hazards in dentistry Long term occupational noise exposure can contribute to permanent hearing loss, which is referred to as noise-induced hearing loss (NIHL) and tinnitus. Noise exposure can cause excessive stimulation of the hearing mechanism, which damages the delicate structures of the inner ear.[62] NIHL can occur when an individual is exposed to sound levels above 90 dBA according to the Occupational Safety and Health Administration (OSHA). Regulations state that the permissible noise exposure levels for individuals is 90 dBA.[63] For the National Institute for Occupational Safety and Health (NIOSH), exposure limits are set to 85 dBA. Exposures below 85 dBA are not considered to be hazardous. Time limits are placed on how long an individual can stay in an environment above 85 dBA before it causes hearing loss. OSHA places that limitation at 8 hours for 85 dBA. The exposure time becomes shorter as the dBA level increases. Within the field of dentistry, a variety of cleaning tools are used including piezoelectric and sonic scalers, and ultrasonic scalers and cleaners.[64] While a majority of the tools do not exceed 75 dBA,[65] prolonged exposure over many years can lead to hearing loss or complaints of tinnitus.[66] Few dentists have reported using personal hearing protective devices,[67][68] which could offset any potential hearing loss or tinnitus.',\n",
       " \"Evidence-based dentistry Main article: Evidence-based dentistry There is a movement in modern dentistry to place a greater emphasis on high-quality scientific evidence in decision-making. Evidence-based dentistry (EBD) uses current scientific evidence to guide decisions. It is an approach to oral health that requires the application and examination of relevant scientific data related to the patient's oral and medical health. Along with the dentist's professional skill and expertise, EBD allows dentists to stay up to date on the latest procedures and patients to receive improved treatment. A new paradigm for medical education designed to incorporate current research into education and practice was developed to help practitioners provide the best care for their patients.[69] It was first introduced by Gordon Guyatt and the Evidence-Based Medicine Working Group at McMaster University in Ontario, Canada in the 1990s. It is part of the larger movement toward evidence-based medicine and other evidence-based practices, especially since a major part of dentistry involves dealing with oral and systemic diseases. Other issues relevant to the dental field in terms of evidence-based research and evidence-based practice include population oral health, dental clinical practice, tooth morphology etc.\",\n",
       " 'A Dental Chair at the University of Michigan School of Dentistry Ethical and medicolegal issues Dentistry is unique in that it requires dental students to have competence-based clinical skills that can only be acquired through supervised specialized laboratory training and direct patient care.[70] This necessitates the need for a scientific and professional basis of care with a foundation of extensive research-based education.[71] According to some experts, the accreditation of dental schools can enhance the quality and professionalism of dental education.[72][73]',\n",
       " 'See also',\n",
       " 'Medicine portal List of dental organizations Dental aerosol Dental instrument By country Dentistry in Canada Dentistry in the Philippines Dentistry in Israel Dentistry in the United Kingdom Dentistry in the United States',\n",
       " 'Notes',\n",
       " 'Whether Dentists are referred to as \"Doctor\" is subject to geographic variation. For example, they are called \"Doctor\" in the US. In the UK, dentists have traditionally been referred to as \"Mister\" as they identified themselves with barber surgeons more than physicians (as do surgeons in the UK, see Surgeon#Titles). However more UK dentists now refer to themselves as \"Doctor\", although this was considered to be potentially misleading by the British public in a single report (see Costley and Fawcett 2010).',\n",
       " 'The scope of Oral and maxillofacial surgery is variable. In some countries, both a medical and dental degree is required for training, and the scope includes head and neck oncology and craniofacial deformity.']"
      ]
     },
     "execution_count": 10,
     "metadata": {},
     "output_type": "execute_result"
    }
   ],
   "source": [
    "def cleaning(x):\n",
    "  x=x.replace('\\n',' ').replace('^',' ').replace('[edit]',' ')\n",
    "  x=' '.join(x.split())\n",
    "  return x\n",
    "\n",
    "url = \"https://en.wikipedia.org/wiki/Dentistry\"\n",
    "response = requests.get(url)\n",
    "soup = BeautifulSoup(response.content, 'html.parser')\n",
    "\n",
    "# Extract the content\n",
    "content = soup.find('div', {'id': 'bodyContent'}).get_text()\n",
    "paragraphs = content.split('\\n\\n')\n",
    "\n",
    "new_cleaned_text=[]\n",
    "for i in paragraphs:\n",
    "  if i == '\\nReferences[edit]':\n",
    "    break\n",
    "  if i == '':\n",
    "    paragraphs.remove(i)\n",
    "  else:\n",
    "    i=cleaning(i)\n",
    "    new_cleaned_text.append(i)\n",
    "del(new_cleaned_text[0])\n",
    "new_cleaned_text"
   ]
  },
  {
   "cell_type": "code",
   "execution_count": 11,
   "metadata": {},
   "outputs": [
    {
     "name": "stderr",
     "output_type": "stream",
     "text": [
      "/home/zigron/anaconda3/envs/codeenv/lib/python3.11/site-packages/langchain_core/_api/deprecation.py:139: LangChainDeprecationWarning: The class `HuggingFaceEmbeddings` was deprecated in LangChain 0.2.2 and will be removed in 0.3.0. An updated version of the class exists in the langchain-huggingface package and should be used instead. To use it run `pip install -U langchain-huggingface` and import as `from langchain_huggingface import HuggingFaceEmbeddings`.\n",
      "  warn_deprecated(\n",
      "/home/zigron/anaconda3/envs/codeenv/lib/python3.11/site-packages/sentence_transformers/cross_encoder/CrossEncoder.py:11: TqdmWarning: IProgress not found. Please update jupyter and ipywidgets. See https://ipywidgets.readthedocs.io/en/stable/user_install.html\n",
      "  from tqdm.autonotebook import tqdm, trange\n"
     ]
    }
   ],
   "source": [
    "from langchain_community.embeddings import HuggingFaceEmbeddings\n",
    "HuggingFaceEmbeddings_ = HuggingFaceEmbeddings(model_name='all-MiniLM-L6-v2')"
   ]
  },
  {
   "cell_type": "code",
   "execution_count": 12,
   "metadata": {},
   "outputs": [],
   "source": [
    "from langchain_community.vectorstores import Chroma\n",
    "chroma_vector_database = Chroma.from_texts(texts=new_cleaned_text, embedding=HuggingFaceEmbeddings_)\n",
    "retriever = chroma_vector_database.as_retriever(search_kwargs={\"k\":5})"
   ]
  },
  {
   "cell_type": "code",
   "execution_count": 13,
   "metadata": {},
   "outputs": [],
   "source": [
    "# from langchain.memory import ChatMessageHistory\n"
   ]
  },
  {
   "cell_type": "code",
   "execution_count": 14,
   "metadata": {},
   "outputs": [],
   "source": [
    "from langchain.prompts import (\n",
    "    ChatPromptTemplate,\n",
    "    HumanMessagePromptTemplate,\n",
    "    MessagesPlaceholder,\n",
    ")\n",
    "from langchain.schema import SystemMessage"
   ]
  },
  {
   "cell_type": "code",
   "execution_count": 15,
   "metadata": {},
   "outputs": [],
   "source": [
    "from langchain.prompts import PromptTemplate"
   ]
  },
  {
   "cell_type": "code",
   "execution_count": 16,
   "metadata": {},
   "outputs": [],
   "source": [
    "from langchain_openai import ChatOpenAI\n",
    "from langchain.chains import LLMChain"
   ]
  },
  {
   "cell_type": "code",
   "execution_count": 17,
   "metadata": {},
   "outputs": [],
   "source": [
    "from langchain_core.messages import AIMessage, HumanMessage"
   ]
  },
  {
   "cell_type": "code",
   "execution_count": 18,
   "metadata": {},
   "outputs": [],
   "source": [
    "from langchain_core.runnables.history import RunnableWithMessageHistory"
   ]
  },
  {
   "cell_type": "code",
   "execution_count": 19,
   "metadata": {},
   "outputs": [],
   "source": [
    "from langchain.memory import ConversationBufferMemory\n"
   ]
  },
  {
   "cell_type": "code",
   "execution_count": 20,
   "metadata": {},
   "outputs": [],
   "source": [
    "from langchain.chains.combine_documents import create_stuff_documents_chain\n",
    "from langchain_core.prompts import ChatPromptTemplate, MessagesPlaceholder"
   ]
  },
  {
   "cell_type": "code",
   "execution_count": 21,
   "metadata": {},
   "outputs": [],
   "source": [
    "from langchain_core.messages import AIMessage, HumanMessage"
   ]
  },
  {
   "cell_type": "code",
   "execution_count": 22,
   "metadata": {},
   "outputs": [],
   "source": [
    "from langchain.memory import ChatMessageHistory"
   ]
  },
  {
   "cell_type": "code",
   "execution_count": 23,
   "metadata": {},
   "outputs": [],
   "source": [
    "from langchain.memory import ChatMessageHistory"
   ]
  },
  {
   "cell_type": "code",
   "execution_count": 24,
   "metadata": {},
   "outputs": [],
   "source": [
    "llm = ChatOpenAI(model='gpt-3.5-turbo', temperature=0.7)"
   ]
  },
  {
   "cell_type": "code",
   "execution_count": 28,
   "metadata": {},
   "outputs": [
    {
     "name": "stdout",
     "output_type": "stream",
     "text": [
      "Assistant: I am here to provide information and answer any questions you may have about dentistry. How can I assist you today?\n",
      "Assistant: - Complete a bachelor's degree\n",
      "- Attend a dental school for 4 years to earn a Doctor of Dental Surgery (DDS) or Doctor of Dental Medicine (DMD) degree\n",
      "- Consider specializing in areas like Orthodontics, Endodontics, or Oral Surgery\n",
      "- Obtain necessary licensing and certifications to practice as a dentist\n"
     ]
    }
   ],
   "source": [
    "\n",
    "demo_ephemeral_chat_history = ChatMessageHistory()\n",
    "while True:\n",
    "\n",
    "    query=input('Enter your query: ')\n",
    "    if query=='exit':\n",
    "        break\n",
    "    top_doc=retriever.invoke(query)\n",
    "    SYSTEM_TEMPLATE =\"\"\"\n",
    "    Act as a dentist. Whenever someone will ask you about dentistry, provide the specific and to the point information. you dont have to create long passages. If you don't know the answer or it is irrelevant to dentisty, just say that you don't know or this is out of my scope ask me about desntistry related queries, don't try to make up an answer.\n",
    "    you also have to same the previous responses you generated. If use ask you something about generated responses, you have to assist them.\n",
    "    you have to behave like an assistant.\n",
    "    {context}\n",
    "    \"\"\"\n",
    "\n",
    "    question_answering_prompt = ChatPromptTemplate.from_messages(\n",
    "        [\n",
    "            (\n",
    "               \"system\",\n",
    "            SYSTEM_TEMPLATE,\n",
    "            ),\n",
    "        MessagesPlaceholder(variable_name=\"messages\"),\n",
    "        ]\n",
    "    )\n",
    "\n",
    "    demo_ephemeral_chat_history.add_user_message(query)\n",
    "\n",
    "    # # system = [{'role':'system','content':SYSTEM_TEMPLATE}]\n",
    "    # system=[]\n",
    "    \n",
    "    document_chain = create_stuff_documents_chain(llm, question_answering_prompt)\n",
    "\n",
    "    res = document_chain.invoke(\n",
    "        {\n",
    "            \"messages\": demo_ephemeral_chat_history.messages,\n",
    "            \"context\": top_doc,\n",
    "        }   \n",
    "    )\n",
    "\n",
    "    demo_ephemeral_chat_history.add_ai_message(res)\n",
    "    print(f\"Assistant: {res}\")\n",
    "    # prev_history.append([HumanMessage(content=query)])\n",
    "    # prev_history.append(res)\n",
    "    # system.extend(prev_history)\n",
    "\n",
    "    # print(res)"
   ]
  },
  {
   "cell_type": "code",
   "execution_count": 29,
   "metadata": {},
   "outputs": [
    {
     "data": {
      "text/plain": [
       "[HumanMessage(content='who are you?'),\n",
       " AIMessage(content='I am here to provide information and answer any questions you may have about dentistry. How can I assist you today?'),\n",
       " HumanMessage(content='how can i become a dentist. tell me in bullets'),\n",
       " AIMessage(content=\"- Complete a bachelor's degree\\n- Attend a dental school for 4 years to earn a Doctor of Dental Surgery (DDS) or Doctor of Dental Medicine (DMD) degree\\n- Consider specializing in areas like Orthodontics, Endodontics, or Oral Surgery\\n- Obtain necessary licensing and certifications to practice as a dentist\")]"
      ]
     },
     "execution_count": 29,
     "metadata": {},
     "output_type": "execute_result"
    }
   ],
   "source": [
    "demo_ephemeral_chat_history.messages"
   ]
  },
  {
   "cell_type": "code",
   "execution_count": 27,
   "metadata": {},
   "outputs": [],
   "source": [
    "\n",
    "    # prompt=PromptTemplate(\n",
    "    #     input_variables=[{'context':\"chat_history\",'question':'query'}],template=template_\n",
    "    # )\n",
    "    # print(prompt)\n",
    "    # memory=ConversationBufferMemory(memory_key='chat_history')\n",
    "    # llm_chain=LLMChain(\n",
    "    #     llm=llm,\n",
    "    #     prompt=prompt,\n",
    "    #     memory=memory,\n",
    "    # )\n",
    "\n",
    "    # llm_chain.invoke(query)\n",
    "    # prompt = ChatPromptTemplate.from_messages(\n",
    "    #     [\n",
    "    #         (\n",
    "    #             \"system\",\n",
    "    #             template_,\n",
    "    #         ),\n",
    "    #      MessagesPlaceholder(variable_name=\"chat_history\"),(\"human\", \"{query}\"),\n",
    "    #     ]\n",
    "    # )\n",
    "\n",
    "    # chain = prompt | llm\n",
    "\n",
    "    # chain_with_message_history = RunnableWithMessageHistory(\n",
    "    # chain,\n",
    "    # lambda session_id: demo_ephemeral_chat_history,input_messages_key=\"input\",history_messages_key=\"chat_history\",\n",
    "    # )\n",
    "\n",
    "    # chain_with_message_history.revoke(\n",
    "    #     {\"input\": \"What's my name?\"},\n",
    "    #     {\"configurable\": {\"session_id\": \"unused\"}},\n",
    "    #)\n",
    "\n",
    "\n",
    "    # prompt = ChatPromptTemplate.from_messages(\n",
    "    #     [\n",
    "    #         SystemMessage(\n",
    "    #            content=template_\n",
    "    #         ),\n",
    "    #         MessagesPlaceholder(\n",
    "    #            variable_name=\"chat_history\"\n",
    "    #      ),def get_completion(prompt, model=llm_model):\n",
    "    # messages = [{\"role\": \"user\", \"content\": prompt}]\n",
    "    # response = openai.ChatCompletion.create(\n",
    "    #     model=model,\n",
    "    #     messages=messages,\n",
    "    #     temperature=0, \n",
    "    # )\n",
    "    # return response.choices[0].message[\"content\"]\n",
    "\n",
    "    #      ),  \n",
    "    #     ]\n",
    "    # ) \n",
    "\n",
    "    # memory = ConversationBufferMemory(memory_key=\"chat_history\", return_messages=True)\n",
    "\n",
    "    # chain = LLMChain(\n",
    "    # llm=llm,\n",
    "    # prompt=prompt,\n",
    "    # verbose=True,\n",
    "    # memory=memory,\n",
    "    # )\n",
    "\n",
    "    # answer = chain.invoke(query)\n",
    "    # print(answer['text'])\n",
    "\n",
    "    # query_answer = chain.invoke({\"context\":top_doc, \"question\":query})\n",
    "\n",
    "    # ai_message=query_answer.content\n",
    "\n",
    "\n",
    "    # history.add_user_message(query)\n",
    "\n",
    "    # history.add_ai_message(ai_message)\n",
    "\n",
    "\n",
    "    # print('Your query: ',query)\n",
    "    # print('Chatbot response: ',ai_message)\n",
    "    # print(history)"
   ]
  },
  {
   "cell_type": "code",
   "execution_count": null,
   "metadata": {},
   "outputs": [],
   "source": []
  }
 ],
 "metadata": {
  "kernelspec": {
   "display_name": "ragenv",
   "language": "python",
   "name": "python3"
  },
  "language_info": {
   "codemirror_mode": {
    "name": "ipython",
    "version": 3
   },
   "file_extension": ".py",
   "mimetype": "text/x-python",
   "name": "python",
   "nbconvert_exporter": "python",
   "pygments_lexer": "ipython3",
   "version": "3.11.9"
  }
 },
 "nbformat": 4,
 "nbformat_minor": 2
}
