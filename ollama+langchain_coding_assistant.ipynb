{
 "cells": [
  {
   "cell_type": "code",
   "execution_count": 14,
   "metadata": {},
   "outputs": [],
   "source": [
    "from langchain_ollama import ChatOllama\n",
    "from langchain_core.prompts import ChatPromptTemplate"
   ]
  },
  {
   "cell_type": "code",
   "execution_count": 15,
   "metadata": {},
   "outputs": [],
   "source": [
    "llm=ChatOllama(\n",
    "    model='llama3.2:1b',\n",
    "    temperature=0,\n",
    ")"
   ]
  },
  {
   "cell_type": "code",
   "execution_count": 16,
   "metadata": {},
   "outputs": [],
   "source": [
    "prompt=ChatPromptTemplate.from_messages(\n",
    "    [\n",
    "        (\"system\",\"You are software developer specialized in {coding_language}\"),\n",
    "        (\"human\",\"{input}\"),\n",
    "    ]\n",
    ")"
   ]
  },
  {
   "cell_type": "code",
   "execution_count": 17,
   "metadata": {},
   "outputs": [
    {
     "name": "stdout",
     "output_type": "stream",
     "text": [
      "Here's a simple Python code snippet that prints numbers from 1 to 10:\n",
      "\n",
      "```python\n",
      "# Print numbers from 1 to 10\n",
      "for i in range(1, 11):\n",
      "    print(i)\n",
      "```\n",
      "\n",
      "This will output:\n",
      "```\n",
      "1\n",
      "2\n",
      "3\n",
      "4\n",
      "5\n",
      "6\n",
      "7\n",
      "8\n",
      "9\n",
      "10\n",
      "```\n",
      "\n",
      "Alternatively, you can use a for loop with the `range()` function and print each number individually:\n",
      "\n",
      "```python\n",
      "# Print numbers from 1 to 10 using range()\n",
      "for i in range(1, 11):\n",
      "    print(i)\n",
      "```\n",
      "\n",
      "Both of these codes will produce the same output.\n"
     ]
    }
   ],
   "source": [
    "chain=prompt | llm\n",
    "ai_msg=chain.invoke(\n",
    "    {\n",
    "        \"coding_language\":\"python\",\n",
    "        \"input\":\"Give me a python code to print numbers from 1 to 10\"\n",
    "    }\n",
    ")\n",
    "print(ai_msg.content)"
   ]
  },
  {
   "cell_type": "markdown",
   "metadata": {},
   "source": [
    "improved version"
   ]
  },
  {
   "cell_type": "code",
   "execution_count": 19,
   "metadata": {},
   "outputs": [],
   "source": [
    "import requests\n",
    "import html2text\n",
    "from langchain_core.tools import tool\n",
    "from langchain_ollama import ChatOllama\n",
    "from langchain_core.messages import HumanMessage,ToolMessage,SystemMessage\n",
    "from langchain.globals import set_verbose,set_debug\n",
    "set_verbose(True)\n",
    "set_debug(True)"
   ]
  },
  {
   "cell_type": "code",
   "execution_count": 20,
   "metadata": {},
   "outputs": [],
   "source": [
    "@tool\n",
    "def get_python_guidelines(sectionName: str, location: str) -> str:\n",
    "    \"\"\"Returns Python coding guidelines for a specific section.\n",
    "\n",
    "    Args:\n",
    "        sectionName: Name of the guideline section (e.g., \"naming conventions\", \"error handling\")\n",
    "        location: URL of the Python coding guidelines\n",
    "    \"\"\"\n",
    "    \n",
    "    print(f\"Tool call: Getting Python coding guidelines for {sectionName} from {location}\")\n",
    "    response = requests.get(location)\n",
    "    html_content = response.text\n",
    "    return html2text.html2text(html_content)\n"
   ]
  },
  {
   "cell_type": "code",
   "execution_count": 21,
   "metadata": {},
   "outputs": [],
   "source": [
    "llm=ChatOllama(\n",
    "    model='llama3.2:1b',\n",
    "    temperature=0,\n",
    ")"
   ]
  },
  {
   "cell_type": "code",
   "execution_count": 22,
   "metadata": {},
   "outputs": [],
   "source": [
    "tools=[get_python_guidelines]\n",
    "llm_w_tools=llm.bind_tools(tools)"
   ]
  },
  {
   "cell_type": "code",
   "execution_count": 23,
   "metadata": {},
   "outputs": [],
   "source": [
    "systemMessage=\"You are a software developer specialized in Python\"\n",
    "messages=[SystemMessage(systemMessage)]\n",
    "\n",
    "humanMessage=\"Give me a python code to make an online banking app which i can run on my vs code, do not give a development level code but learning purpose\"\n",
    "messages.append(HumanMessage(humanMessage))"
   ]
  },
  {
   "cell_type": "code",
   "execution_count": 24,
   "metadata": {},
   "outputs": [
    {
     "name": "stdout",
     "output_type": "stream",
     "text": [
      "\u001b[32;1m\u001b[1;3m[llm/start]\u001b[0m \u001b[1m[llm:ChatOllama] Entering LLM run with input:\n",
      "\u001b[0m{\n",
      "  \"prompts\": [\n",
      "    \"System: You are a software developer specialized in Python\\nHuman: Give me a python code to make an online banking app which i can run on my vs code, do not give a development level code but learning purpose\"\n",
      "  ]\n",
      "}\n",
      "\u001b[36;1m\u001b[1;3m[llm/end]\u001b[0m \u001b[1m[llm:ChatOllama] [104.50s] Exiting LLM run with output:\n",
      "\u001b[0m{\n",
      "  \"generations\": [\n",
      "    [\n",
      "      {\n",
      "        \"text\": \"Here is a simple Python code for an online banking app that you can run in VS Code:\\n\\n```python\\nimport tkinter as tk\\nfrom tkinter import messagebox\\n\\nclass BankingApp:\\n    def __init__(self):\\n        self.window = tk.Tk()\\n        self.window.title(\\\"Online Banking App\\\")\\n        self.window.geometry(\\\"300x200\\\")\\n\\n        # Create frames\\n        self.input_frame = tk.Frame(self.window)\\n        self.input_frame.pack(padx=10, pady=10)\\n\\n        self.button_frame = tk.Frame(self.window)\\n        self.button_frame.pack(padx=10, pady=10)\\n\\n        # Create input fields and buttons\\n        self.account_number_label = tk.Label(self.input_frame, text=\\\"Account Number:\\\")\\n        self.account_number_label.pack(side=tk.LEFT)\\n\\n        self.account_number_entry = tk.Entry(self.input_frame, width=20)\\n        self.account_number_entry.pack(side=tk.LEFT)\\n\\n        self.password_label = tk.Label(self.input_frame, text=\\\"Password:\\\")\\n        self.password_label.pack(side=tk.LEFT)\\n\\n        self.password_entry = tk.Entry(self.input_frame, show=\\\"*\\\", width=20)\\n        self.password_entry.pack(side=tk.LEFT)\\n\\n        self.login_button = tk.Button(self.button_frame, text=\\\"Login\\\", command=self.login)\\n        self.login_button.pack(pady=10)\\n\\n    def login(self):\\n        account_number = self.account_number_entry.get()\\n        password = self.password_entry.get()\\n\\n        # Simulate database query\\n        if account_number == \\\"1234567890\\\" and password == \\\"password\\\":\\n            messagebox.showinfo(\\\"Login Success\\\", \\\"Welcome to Online Banking App!\\\")\\n        else:\\n            messagebox.showerror(\\\"Login Failed\\\", \\\"Invalid Account Number or Password\\\")\\n\\n    def run(self):\\n        self.window.mainloop()\\n\\nif __name__ == \\\"__main__\\\":\\n    app = BankingApp()\\n    app.run()\\n```\\n\\nThis code creates a simple online banking app with input fields for account number and password, and a login button. When the login button is clicked, it checks if the entered account number and password match the hardcoded values. If they do, it shows a success message; otherwise, it shows an error message.\\n\\nTo run this code in VS Code, you can create a new file called `banking_app.py` and copy the above code into it. Then, open the terminal in VS Code by pressing `Ctrl + Shift + ` (backtick) or navigating to View > Terminal. In the terminal, navigate to the directory where your `banking_app.py` file is located using the `cd` command. Finally, run the app using the `python banking_app.py` command.\\n\\nNote: This code does not include any database connection or security measures that you would want in a real-world application. It's just for learning purposes.\",\n",
      "        \"generation_info\": {\n",
      "          \"model\": \"llama3.2:1b\",\n",
      "          \"created_at\": \"2024-11-06T07:11:27.972055788Z\",\n",
      "          \"message\": {\n",
      "            \"role\": \"assistant\",\n",
      "            \"content\": \"Here is a simple Python code for an online banking app that you can run in VS Code:\\n\\n```python\\nimport tkinter as tk\\nfrom tkinter import messagebox\\n\\nclass BankingApp:\\n    def __init__(self):\\n        self.window = tk.Tk()\\n        self.window.title(\\\"Online Banking App\\\")\\n        self.window.geometry(\\\"300x200\\\")\\n\\n        # Create frames\\n        self.input_frame = tk.Frame(self.window)\\n        self.input_frame.pack(padx=10, pady=10)\\n\\n        self.button_frame = tk.Frame(self.window)\\n        self.button_frame.pack(padx=10, pady=10)\\n\\n        # Create input fields and buttons\\n        self.account_number_label = tk.Label(self.input_frame, text=\\\"Account Number:\\\")\\n        self.account_number_label.pack(side=tk.LEFT)\\n\\n        self.account_number_entry = tk.Entry(self.input_frame, width=20)\\n        self.account_number_entry.pack(side=tk.LEFT)\\n\\n        self.password_label = tk.Label(self.input_frame, text=\\\"Password:\\\")\\n        self.password_label.pack(side=tk.LEFT)\\n\\n        self.password_entry = tk.Entry(self.input_frame, show=\\\"*\\\", width=20)\\n        self.password_entry.pack(side=tk.LEFT)\\n\\n        self.login_button = tk.Button(self.button_frame, text=\\\"Login\\\", command=self.login)\\n        self.login_button.pack(pady=10)\\n\\n    def login(self):\\n        account_number = self.account_number_entry.get()\\n        password = self.password_entry.get()\\n\\n        # Simulate database query\\n        if account_number == \\\"1234567890\\\" and password == \\\"password\\\":\\n            messagebox.showinfo(\\\"Login Success\\\", \\\"Welcome to Online Banking App!\\\")\\n        else:\\n            messagebox.showerror(\\\"Login Failed\\\", \\\"Invalid Account Number or Password\\\")\\n\\n    def run(self):\\n        self.window.mainloop()\\n\\nif __name__ == \\\"__main__\\\":\\n    app = BankingApp()\\n    app.run()\\n```\\n\\nThis code creates a simple online banking app with input fields for account number and password, and a login button. When the login button is clicked, it checks if the entered account number and password match the hardcoded values. If they do, it shows a success message; otherwise, it shows an error message.\\n\\nTo run this code in VS Code, you can create a new file called `banking_app.py` and copy the above code into it. Then, open the terminal in VS Code by pressing `Ctrl + Shift + ` (backtick) or navigating to View > Terminal. In the terminal, navigate to the directory where your `banking_app.py` file is located using the `cd` command. Finally, run the app using the `python banking_app.py` command.\\n\\nNote: This code does not include any database connection or security measures that you would want in a real-world application. It's just for learning purposes.\"\n",
      "          },\n",
      "          \"done_reason\": \"stop\",\n",
      "          \"done\": true,\n",
      "          \"total_duration\": 104486282894,\n",
      "          \"load_duration\": 3130733297,\n",
      "          \"prompt_eval_count\": 247,\n",
      "          \"prompt_eval_duration\": 5641079000,\n",
      "          \"eval_count\": 562,\n",
      "          \"eval_duration\": 95621561000\n",
      "        },\n",
      "        \"type\": \"ChatGeneration\",\n",
      "        \"message\": {\n",
      "          \"lc\": 1,\n",
      "          \"type\": \"constructor\",\n",
      "          \"id\": [\n",
      "            \"langchain\",\n",
      "            \"schema\",\n",
      "            \"messages\",\n",
      "            \"AIMessage\"\n",
      "          ],\n",
      "          \"kwargs\": {\n",
      "            \"content\": \"Here is a simple Python code for an online banking app that you can run in VS Code:\\n\\n```python\\nimport tkinter as tk\\nfrom tkinter import messagebox\\n\\nclass BankingApp:\\n    def __init__(self):\\n        self.window = tk.Tk()\\n        self.window.title(\\\"Online Banking App\\\")\\n        self.window.geometry(\\\"300x200\\\")\\n\\n        # Create frames\\n        self.input_frame = tk.Frame(self.window)\\n        self.input_frame.pack(padx=10, pady=10)\\n\\n        self.button_frame = tk.Frame(self.window)\\n        self.button_frame.pack(padx=10, pady=10)\\n\\n        # Create input fields and buttons\\n        self.account_number_label = tk.Label(self.input_frame, text=\\\"Account Number:\\\")\\n        self.account_number_label.pack(side=tk.LEFT)\\n\\n        self.account_number_entry = tk.Entry(self.input_frame, width=20)\\n        self.account_number_entry.pack(side=tk.LEFT)\\n\\n        self.password_label = tk.Label(self.input_frame, text=\\\"Password:\\\")\\n        self.password_label.pack(side=tk.LEFT)\\n\\n        self.password_entry = tk.Entry(self.input_frame, show=\\\"*\\\", width=20)\\n        self.password_entry.pack(side=tk.LEFT)\\n\\n        self.login_button = tk.Button(self.button_frame, text=\\\"Login\\\", command=self.login)\\n        self.login_button.pack(pady=10)\\n\\n    def login(self):\\n        account_number = self.account_number_entry.get()\\n        password = self.password_entry.get()\\n\\n        # Simulate database query\\n        if account_number == \\\"1234567890\\\" and password == \\\"password\\\":\\n            messagebox.showinfo(\\\"Login Success\\\", \\\"Welcome to Online Banking App!\\\")\\n        else:\\n            messagebox.showerror(\\\"Login Failed\\\", \\\"Invalid Account Number or Password\\\")\\n\\n    def run(self):\\n        self.window.mainloop()\\n\\nif __name__ == \\\"__main__\\\":\\n    app = BankingApp()\\n    app.run()\\n```\\n\\nThis code creates a simple online banking app with input fields for account number and password, and a login button. When the login button is clicked, it checks if the entered account number and password match the hardcoded values. If they do, it shows a success message; otherwise, it shows an error message.\\n\\nTo run this code in VS Code, you can create a new file called `banking_app.py` and copy the above code into it. Then, open the terminal in VS Code by pressing `Ctrl + Shift + ` (backtick) or navigating to View > Terminal. In the terminal, navigate to the directory where your `banking_app.py` file is located using the `cd` command. Finally, run the app using the `python banking_app.py` command.\\n\\nNote: This code does not include any database connection or security measures that you would want in a real-world application. It's just for learning purposes.\",\n",
      "            \"response_metadata\": {\n",
      "              \"model\": \"llama3.2:1b\",\n",
      "              \"created_at\": \"2024-11-06T07:11:27.972055788Z\",\n",
      "              \"message\": {\n",
      "                \"role\": \"assistant\",\n",
      "                \"content\": \"Here is a simple Python code for an online banking app that you can run in VS Code:\\n\\n```python\\nimport tkinter as tk\\nfrom tkinter import messagebox\\n\\nclass BankingApp:\\n    def __init__(self):\\n        self.window = tk.Tk()\\n        self.window.title(\\\"Online Banking App\\\")\\n        self.window.geometry(\\\"300x200\\\")\\n\\n        # Create frames\\n        self.input_frame = tk.Frame(self.window)\\n        self.input_frame.pack(padx=10, pady=10)\\n\\n        self.button_frame = tk.Frame(self.window)\\n        self.button_frame.pack(padx=10, pady=10)\\n\\n        # Create input fields and buttons\\n        self.account_number_label = tk.Label(self.input_frame, text=\\\"Account Number:\\\")\\n        self.account_number_label.pack(side=tk.LEFT)\\n\\n        self.account_number_entry = tk.Entry(self.input_frame, width=20)\\n        self.account_number_entry.pack(side=tk.LEFT)\\n\\n        self.password_label = tk.Label(self.input_frame, text=\\\"Password:\\\")\\n        self.password_label.pack(side=tk.LEFT)\\n\\n        self.password_entry = tk.Entry(self.input_frame, show=\\\"*\\\", width=20)\\n        self.password_entry.pack(side=tk.LEFT)\\n\\n        self.login_button = tk.Button(self.button_frame, text=\\\"Login\\\", command=self.login)\\n        self.login_button.pack(pady=10)\\n\\n    def login(self):\\n        account_number = self.account_number_entry.get()\\n        password = self.password_entry.get()\\n\\n        # Simulate database query\\n        if account_number == \\\"1234567890\\\" and password == \\\"password\\\":\\n            messagebox.showinfo(\\\"Login Success\\\", \\\"Welcome to Online Banking App!\\\")\\n        else:\\n            messagebox.showerror(\\\"Login Failed\\\", \\\"Invalid Account Number or Password\\\")\\n\\n    def run(self):\\n        self.window.mainloop()\\n\\nif __name__ == \\\"__main__\\\":\\n    app = BankingApp()\\n    app.run()\\n```\\n\\nThis code creates a simple online banking app with input fields for account number and password, and a login button. When the login button is clicked, it checks if the entered account number and password match the hardcoded values. If they do, it shows a success message; otherwise, it shows an error message.\\n\\nTo run this code in VS Code, you can create a new file called `banking_app.py` and copy the above code into it. Then, open the terminal in VS Code by pressing `Ctrl + Shift + ` (backtick) or navigating to View > Terminal. In the terminal, navigate to the directory where your `banking_app.py` file is located using the `cd` command. Finally, run the app using the `python banking_app.py` command.\\n\\nNote: This code does not include any database connection or security measures that you would want in a real-world application. It's just for learning purposes.\"\n",
      "              },\n",
      "              \"done_reason\": \"stop\",\n",
      "              \"done\": true,\n",
      "              \"total_duration\": 104486282894,\n",
      "              \"load_duration\": 3130733297,\n",
      "              \"prompt_eval_count\": 247,\n",
      "              \"prompt_eval_duration\": 5641079000,\n",
      "              \"eval_count\": 562,\n",
      "              \"eval_duration\": 95621561000\n",
      "            },\n",
      "            \"type\": \"ai\",\n",
      "            \"id\": \"run-796e371e-18da-4578-acd5-0941da53dffe-0\",\n",
      "            \"usage_metadata\": {\n",
      "              \"input_tokens\": 247,\n",
      "              \"output_tokens\": 562,\n",
      "              \"total_tokens\": 809\n",
      "            },\n",
      "            \"tool_calls\": [],\n",
      "            \"invalid_tool_calls\": []\n",
      "          }\n",
      "        }\n",
      "      }\n",
      "    ]\n",
      "  ],\n",
      "  \"llm_output\": null,\n",
      "  \"run\": null,\n",
      "  \"type\": \"LLMResult\"\n",
      "}\n"
     ]
    }
   ],
   "source": [
    "ai_msg=llm_w_tools.invoke(messages)"
   ]
  },
  {
   "cell_type": "code",
   "execution_count": 26,
   "metadata": {},
   "outputs": [],
   "source": [
    "for tool_call in ai_msg.tool_calls:\n",
    "    print(tool_call)"
   ]
  },
  {
   "cell_type": "code",
   "execution_count": 27,
   "metadata": {},
   "outputs": [],
   "source": [
    "for tool_call in ai_msg.tool_calls:\n",
    "    selected_tool = {\"get_python_guidlines\": get_python_guidelines}[tool_call[\"name\"].lower()]\n",
    "    tool_output = selected_tool.invoke(tool_call[\"args\"])\n",
    "    messages.append(ToolMessage(tool_output, tool_call_id=tool_call[\"id\"]))"
   ]
  },
  {
   "cell_type": "code",
   "execution_count": 28,
   "metadata": {},
   "outputs": [
    {
     "name": "stdout",
     "output_type": "stream",
     "text": [
      "\u001b[32;1m\u001b[1;3m[llm/start]\u001b[0m \u001b[1m[llm:ChatOllama] Entering LLM run with input:\n",
      "\u001b[0m{\n",
      "  \"prompts\": [\n",
      "    \"System: You are a software developer specialized in Python\\nHuman: Give me a python code to make an online banking app which i can run on my vs code, do not give a development level code but learning purpose\"\n",
      "  ]\n",
      "}\n",
      "\u001b[36;1m\u001b[1;3m[llm/end]\u001b[0m \u001b[1m[llm:ChatOllama] [103.05s] Exiting LLM run with output:\n",
      "\u001b[0m{\n",
      "  \"generations\": [\n",
      "    [\n",
      "      {\n",
      "        \"text\": \"Here is a simple Python code for an online banking app that you can run in VS Code:\\n\\n```python\\nimport tkinter as tk\\nfrom tkinter import messagebox\\n\\nclass BankingApp:\\n    def __init__(self):\\n        self.window = tk.Tk()\\n        self.window.title(\\\"Online Banking App\\\")\\n        self.window.geometry(\\\"300x200\\\")\\n\\n        # Create frames\\n        self.input_frame = tk.Frame(self.window)\\n        self.input_frame.pack(padx=10, pady=10)\\n\\n        self.button_frame = tk.Frame(self.window)\\n        self.button_frame.pack(padx=10, pady=10)\\n\\n        # Create input fields and buttons\\n        self.account_number_label = tk.Label(self.input_frame, text=\\\"Account Number:\\\")\\n        self.account_number_label.pack(side=tk.LEFT)\\n\\n        self.account_number_entry = tk.Entry(self.input_frame, width=20)\\n        self.account_number_entry.pack(side=tk.LEFT)\\n\\n        self.password_label = tk.Label(self.input_frame, text=\\\"Password:\\\")\\n        self.password_label.pack(side=tk.LEFT)\\n\\n        self.password_entry = tk.Entry(self.input_frame, show=\\\"*\\\", width=20)\\n        self.password_entry.pack(side=tk.LEFT)\\n\\n        self.login_button = tk.Button(self.button_frame, text=\\\"Login\\\", command=self.login)\\n        self.login_button.pack(pady=10)\\n\\n    def login(self):\\n        account_number = self.account_number_entry.get()\\n        password = self.password_entry.get()\\n\\n        # Simulate database query\\n        if account_number == \\\"1234567890\\\" and password == \\\"password\\\":\\n            messagebox.showinfo(\\\"Login Success\\\", \\\"Welcome to Online Banking App!\\\")\\n        else:\\n            messagebox.showerror(\\\"Login Failed\\\", \\\"Invalid Account Number or Password\\\")\\n\\n    def run(self):\\n        self.window.mainloop()\\n\\nif __name__ == \\\"__main__\\\":\\n    app = BankingApp()\\n    app.run()\\n```\\n\\nThis code creates a simple online banking app with input fields for account number and password, and a login button. When the login button is clicked, it checks if the entered account number and password match the hardcoded values. If they do, it shows a success message; otherwise, it shows an error message.\\n\\nTo run this code in VS Code, you can create a new file called `banking_app.py` and copy the above code into it. Then, open the terminal in VS Code by pressing `Ctrl + Shift + ` (backtick) or navigating to View > Terminal. In the terminal, navigate to the directory where your `banking_app.py` file is located using the `cd` command. Finally, run the app using the `python banking_app.py` command.\\n\\nNote: This code does not include any database connection or security measures that you would want in a real-world application. It's just for learning purposes.\",\n",
      "        \"generation_info\": {\n",
      "          \"model\": \"llama3.2:1b\",\n",
      "          \"created_at\": \"2024-11-06T07:22:45.343292484Z\",\n",
      "          \"message\": {\n",
      "            \"role\": \"assistant\",\n",
      "            \"content\": \"Here is a simple Python code for an online banking app that you can run in VS Code:\\n\\n```python\\nimport tkinter as tk\\nfrom tkinter import messagebox\\n\\nclass BankingApp:\\n    def __init__(self):\\n        self.window = tk.Tk()\\n        self.window.title(\\\"Online Banking App\\\")\\n        self.window.geometry(\\\"300x200\\\")\\n\\n        # Create frames\\n        self.input_frame = tk.Frame(self.window)\\n        self.input_frame.pack(padx=10, pady=10)\\n\\n        self.button_frame = tk.Frame(self.window)\\n        self.button_frame.pack(padx=10, pady=10)\\n\\n        # Create input fields and buttons\\n        self.account_number_label = tk.Label(self.input_frame, text=\\\"Account Number:\\\")\\n        self.account_number_label.pack(side=tk.LEFT)\\n\\n        self.account_number_entry = tk.Entry(self.input_frame, width=20)\\n        self.account_number_entry.pack(side=tk.LEFT)\\n\\n        self.password_label = tk.Label(self.input_frame, text=\\\"Password:\\\")\\n        self.password_label.pack(side=tk.LEFT)\\n\\n        self.password_entry = tk.Entry(self.input_frame, show=\\\"*\\\", width=20)\\n        self.password_entry.pack(side=tk.LEFT)\\n\\n        self.login_button = tk.Button(self.button_frame, text=\\\"Login\\\", command=self.login)\\n        self.login_button.pack(pady=10)\\n\\n    def login(self):\\n        account_number = self.account_number_entry.get()\\n        password = self.password_entry.get()\\n\\n        # Simulate database query\\n        if account_number == \\\"1234567890\\\" and password == \\\"password\\\":\\n            messagebox.showinfo(\\\"Login Success\\\", \\\"Welcome to Online Banking App!\\\")\\n        else:\\n            messagebox.showerror(\\\"Login Failed\\\", \\\"Invalid Account Number or Password\\\")\\n\\n    def run(self):\\n        self.window.mainloop()\\n\\nif __name__ == \\\"__main__\\\":\\n    app = BankingApp()\\n    app.run()\\n```\\n\\nThis code creates a simple online banking app with input fields for account number and password, and a login button. When the login button is clicked, it checks if the entered account number and password match the hardcoded values. If they do, it shows a success message; otherwise, it shows an error message.\\n\\nTo run this code in VS Code, you can create a new file called `banking_app.py` and copy the above code into it. Then, open the terminal in VS Code by pressing `Ctrl + Shift + ` (backtick) or navigating to View > Terminal. In the terminal, navigate to the directory where your `banking_app.py` file is located using the `cd` command. Finally, run the app using the `python banking_app.py` command.\\n\\nNote: This code does not include any database connection or security measures that you would want in a real-world application. It's just for learning purposes.\"\n",
      "          },\n",
      "          \"done_reason\": \"stop\",\n",
      "          \"done\": true,\n",
      "          \"total_duration\": 103039393045,\n",
      "          \"load_duration\": 2878077025,\n",
      "          \"prompt_eval_count\": 247,\n",
      "          \"prompt_eval_duration\": 6796059000,\n",
      "          \"eval_count\": 562,\n",
      "          \"eval_duration\": 93226386000\n",
      "        },\n",
      "        \"type\": \"ChatGeneration\",\n",
      "        \"message\": {\n",
      "          \"lc\": 1,\n",
      "          \"type\": \"constructor\",\n",
      "          \"id\": [\n",
      "            \"langchain\",\n",
      "            \"schema\",\n",
      "            \"messages\",\n",
      "            \"AIMessage\"\n",
      "          ],\n",
      "          \"kwargs\": {\n",
      "            \"content\": \"Here is a simple Python code for an online banking app that you can run in VS Code:\\n\\n```python\\nimport tkinter as tk\\nfrom tkinter import messagebox\\n\\nclass BankingApp:\\n    def __init__(self):\\n        self.window = tk.Tk()\\n        self.window.title(\\\"Online Banking App\\\")\\n        self.window.geometry(\\\"300x200\\\")\\n\\n        # Create frames\\n        self.input_frame = tk.Frame(self.window)\\n        self.input_frame.pack(padx=10, pady=10)\\n\\n        self.button_frame = tk.Frame(self.window)\\n        self.button_frame.pack(padx=10, pady=10)\\n\\n        # Create input fields and buttons\\n        self.account_number_label = tk.Label(self.input_frame, text=\\\"Account Number:\\\")\\n        self.account_number_label.pack(side=tk.LEFT)\\n\\n        self.account_number_entry = tk.Entry(self.input_frame, width=20)\\n        self.account_number_entry.pack(side=tk.LEFT)\\n\\n        self.password_label = tk.Label(self.input_frame, text=\\\"Password:\\\")\\n        self.password_label.pack(side=tk.LEFT)\\n\\n        self.password_entry = tk.Entry(self.input_frame, show=\\\"*\\\", width=20)\\n        self.password_entry.pack(side=tk.LEFT)\\n\\n        self.login_button = tk.Button(self.button_frame, text=\\\"Login\\\", command=self.login)\\n        self.login_button.pack(pady=10)\\n\\n    def login(self):\\n        account_number = self.account_number_entry.get()\\n        password = self.password_entry.get()\\n\\n        # Simulate database query\\n        if account_number == \\\"1234567890\\\" and password == \\\"password\\\":\\n            messagebox.showinfo(\\\"Login Success\\\", \\\"Welcome to Online Banking App!\\\")\\n        else:\\n            messagebox.showerror(\\\"Login Failed\\\", \\\"Invalid Account Number or Password\\\")\\n\\n    def run(self):\\n        self.window.mainloop()\\n\\nif __name__ == \\\"__main__\\\":\\n    app = BankingApp()\\n    app.run()\\n```\\n\\nThis code creates a simple online banking app with input fields for account number and password, and a login button. When the login button is clicked, it checks if the entered account number and password match the hardcoded values. If they do, it shows a success message; otherwise, it shows an error message.\\n\\nTo run this code in VS Code, you can create a new file called `banking_app.py` and copy the above code into it. Then, open the terminal in VS Code by pressing `Ctrl + Shift + ` (backtick) or navigating to View > Terminal. In the terminal, navigate to the directory where your `banking_app.py` file is located using the `cd` command. Finally, run the app using the `python banking_app.py` command.\\n\\nNote: This code does not include any database connection or security measures that you would want in a real-world application. It's just for learning purposes.\",\n",
      "            \"response_metadata\": {\n",
      "              \"model\": \"llama3.2:1b\",\n",
      "              \"created_at\": \"2024-11-06T07:22:45.343292484Z\",\n",
      "              \"message\": {\n",
      "                \"role\": \"assistant\",\n",
      "                \"content\": \"Here is a simple Python code for an online banking app that you can run in VS Code:\\n\\n```python\\nimport tkinter as tk\\nfrom tkinter import messagebox\\n\\nclass BankingApp:\\n    def __init__(self):\\n        self.window = tk.Tk()\\n        self.window.title(\\\"Online Banking App\\\")\\n        self.window.geometry(\\\"300x200\\\")\\n\\n        # Create frames\\n        self.input_frame = tk.Frame(self.window)\\n        self.input_frame.pack(padx=10, pady=10)\\n\\n        self.button_frame = tk.Frame(self.window)\\n        self.button_frame.pack(padx=10, pady=10)\\n\\n        # Create input fields and buttons\\n        self.account_number_label = tk.Label(self.input_frame, text=\\\"Account Number:\\\")\\n        self.account_number_label.pack(side=tk.LEFT)\\n\\n        self.account_number_entry = tk.Entry(self.input_frame, width=20)\\n        self.account_number_entry.pack(side=tk.LEFT)\\n\\n        self.password_label = tk.Label(self.input_frame, text=\\\"Password:\\\")\\n        self.password_label.pack(side=tk.LEFT)\\n\\n        self.password_entry = tk.Entry(self.input_frame, show=\\\"*\\\", width=20)\\n        self.password_entry.pack(side=tk.LEFT)\\n\\n        self.login_button = tk.Button(self.button_frame, text=\\\"Login\\\", command=self.login)\\n        self.login_button.pack(pady=10)\\n\\n    def login(self):\\n        account_number = self.account_number_entry.get()\\n        password = self.password_entry.get()\\n\\n        # Simulate database query\\n        if account_number == \\\"1234567890\\\" and password == \\\"password\\\":\\n            messagebox.showinfo(\\\"Login Success\\\", \\\"Welcome to Online Banking App!\\\")\\n        else:\\n            messagebox.showerror(\\\"Login Failed\\\", \\\"Invalid Account Number or Password\\\")\\n\\n    def run(self):\\n        self.window.mainloop()\\n\\nif __name__ == \\\"__main__\\\":\\n    app = BankingApp()\\n    app.run()\\n```\\n\\nThis code creates a simple online banking app with input fields for account number and password, and a login button. When the login button is clicked, it checks if the entered account number and password match the hardcoded values. If they do, it shows a success message; otherwise, it shows an error message.\\n\\nTo run this code in VS Code, you can create a new file called `banking_app.py` and copy the above code into it. Then, open the terminal in VS Code by pressing `Ctrl + Shift + ` (backtick) or navigating to View > Terminal. In the terminal, navigate to the directory where your `banking_app.py` file is located using the `cd` command. Finally, run the app using the `python banking_app.py` command.\\n\\nNote: This code does not include any database connection or security measures that you would want in a real-world application. It's just for learning purposes.\"\n",
      "              },\n",
      "              \"done_reason\": \"stop\",\n",
      "              \"done\": true,\n",
      "              \"total_duration\": 103039393045,\n",
      "              \"load_duration\": 2878077025,\n",
      "              \"prompt_eval_count\": 247,\n",
      "              \"prompt_eval_duration\": 6796059000,\n",
      "              \"eval_count\": 562,\n",
      "              \"eval_duration\": 93226386000\n",
      "            },\n",
      "            \"type\": \"ai\",\n",
      "            \"id\": \"run-5f804460-5fd3-435c-ba60-3deed4ae0259-0\",\n",
      "            \"usage_metadata\": {\n",
      "              \"input_tokens\": 247,\n",
      "              \"output_tokens\": 562,\n",
      "              \"total_tokens\": 809\n",
      "            },\n",
      "            \"tool_calls\": [],\n",
      "            \"invalid_tool_calls\": []\n",
      "          }\n",
      "        }\n",
      "      }\n",
      "    ]\n",
      "  ],\n",
      "  \"llm_output\": null,\n",
      "  \"run\": null,\n",
      "  \"type\": \"LLMResult\"\n",
      "}\n"
     ]
    }
   ],
   "source": [
    "ai_msg = llm_w_tools.invoke(messages)"
   ]
  },
  {
   "cell_type": "code",
   "execution_count": 29,
   "metadata": {},
   "outputs": [
    {
     "name": "stdout",
     "output_type": "stream",
     "text": [
      "Here is a simple Python code for an online banking app that you can run in VS Code:\n",
      "\n",
      "```python\n",
      "import tkinter as tk\n",
      "from tkinter import messagebox\n",
      "\n",
      "class BankingApp:\n",
      "    def __init__(self):\n",
      "        self.window = tk.Tk()\n",
      "        self.window.title(\"Online Banking App\")\n",
      "        self.window.geometry(\"300x200\")\n",
      "\n",
      "        # Create frames\n",
      "        self.input_frame = tk.Frame(self.window)\n",
      "        self.input_frame.pack(padx=10, pady=10)\n",
      "\n",
      "        self.button_frame = tk.Frame(self.window)\n",
      "        self.button_frame.pack(padx=10, pady=10)\n",
      "\n",
      "        # Create input fields and buttons\n",
      "        self.account_number_label = tk.Label(self.input_frame, text=\"Account Number:\")\n",
      "        self.account_number_label.pack(side=tk.LEFT)\n",
      "\n",
      "        self.account_number_entry = tk.Entry(self.input_frame, width=20)\n",
      "        self.account_number_entry.pack(side=tk.LEFT)\n",
      "\n",
      "        self.password_label = tk.Label(self.input_frame, text=\"Password:\")\n",
      "        self.password_label.pack(side=tk.LEFT)\n",
      "\n",
      "        self.password_entry = tk.Entry(self.input_frame, show=\"*\", width=20)\n",
      "        self.password_entry.pack(side=tk.LEFT)\n",
      "\n",
      "        self.login_button = tk.Button(self.button_frame, text=\"Login\", command=self.login)\n",
      "        self.login_button.pack(pady=10)\n",
      "\n",
      "    def login(self):\n",
      "        account_number = self.account_number_entry.get()\n",
      "        password = self.password_entry.get()\n",
      "\n",
      "        # Simulate database query\n",
      "        if account_number == \"1234567890\" and password == \"password\":\n",
      "            messagebox.showinfo(\"Login Success\", \"Welcome to Online Banking App!\")\n",
      "        else:\n",
      "            messagebox.showerror(\"Login Failed\", \"Invalid Account Number or Password\")\n",
      "\n",
      "    def run(self):\n",
      "        self.window.mainloop()\n",
      "\n",
      "if __name__ == \"__main__\":\n",
      "    app = BankingApp()\n",
      "    app.run()\n",
      "```\n",
      "\n",
      "This code creates a simple online banking app with input fields for account number and password, and a login button. When the login button is clicked, it checks if the entered account number and password match the hardcoded values. If they do, it shows a success message; otherwise, it shows an error message.\n",
      "\n",
      "To run this code in VS Code, you can create a new file called `banking_app.py` and copy the above code into it. Then, open the terminal in VS Code by pressing `Ctrl + Shift + ` (backtick) or navigating to View > Terminal. In the terminal, navigate to the directory where your `banking_app.py` file is located using the `cd` command. Finally, run the app using the `python banking_app.py` command.\n",
      "\n",
      "Note: This code does not include any database connection or security measures that you would want in a real-world application. It's just for learning purposes.\n"
     ]
    }
   ],
   "source": [
    "print(ai_msg.content)"
   ]
  },
  {
   "cell_type": "code",
   "execution_count": null,
   "metadata": {},
   "outputs": [],
   "source": []
  }
 ],
 "metadata": {
  "kernelspec": {
   "display_name": "codeenv",
   "language": "python",
   "name": "python3"
  },
  "language_info": {
   "codemirror_mode": {
    "name": "ipython",
    "version": 3
   },
   "file_extension": ".py",
   "mimetype": "text/x-python",
   "name": "python",
   "nbconvert_exporter": "python",
   "pygments_lexer": "ipython3",
   "version": "3.11.9"
  }
 },
 "nbformat": 4,
 "nbformat_minor": 2
}
